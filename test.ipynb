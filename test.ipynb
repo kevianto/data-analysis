{
 "cells": [
  {
   "cell_type": "code",
   "execution_count": 1,
   "metadata": {},
   "outputs": [],
   "source": [
    "import pandas as pd\n",
    "import numpy as np\n",
    "import matplotlib.pyplot as plt\n",
    "import seaborn as sns"
   ]
  },
  {
   "cell_type": "code",
   "execution_count": 6,
   "metadata": {},
   "outputs": [
    {
     "name": "stdout",
     "output_type": "stream",
     "text": [
      "<bound method NDFrame.head of           id  MedInc  HouseAge  AveRooms  AveBedrms  Population  AveOccup  \\\n",
      "0          0  2.3859        15  3.827160   1.112100      1280.0  2.486989   \n",
      "1          1  3.7188        17  6.013373   1.054217      1504.0  3.813084   \n",
      "2          2  4.7750        27  6.535604   1.103175      1061.0  2.464602   \n",
      "3          3  2.4138        16  3.350203   0.965432      1255.0  2.089286   \n",
      "4          4  3.7500        52  4.284404   1.069246      1793.0  1.604790   \n",
      "...      ...     ...       ...       ...        ...         ...       ...   \n",
      "37132  37132  3.3438        50  4.936508   1.079365      1775.0  3.022222   \n",
      "37133  37133  3.7308        26  5.087533   0.966019      1006.0  4.316901   \n",
      "37134  37134  4.1716        52  4.678862   1.101485      1156.0  1.431734   \n",
      "37135  37135  2.7143        16  5.710074   1.068376       584.0  2.803659   \n",
      "37136  37136  2.2419        34  5.424419   1.058685      1340.0  3.799065   \n",
      "\n",
      "       Latitude  Longitude  MedHouseVal  \n",
      "0         34.60    -120.12        0.980  \n",
      "1         38.69    -121.22        0.946  \n",
      "2         34.71    -120.45        1.576  \n",
      "3         32.66    -117.09        1.336  \n",
      "4         37.80    -122.41        4.500  \n",
      "...         ...        ...          ...  \n",
      "37132     34.19    -118.36        1.856  \n",
      "37133     37.32    -121.86        1.588  \n",
      "37134     37.75    -122.44        3.387  \n",
      "37135     38.40    -120.98        1.592  \n",
      "37136     36.34    -119.64        0.652  \n",
      "\n",
      "[37137 rows x 10 columns]>\n"
     ]
    }
   ],
   "source": [
    "data= pd.read_csv(r'train.csv')\n",
    "print (data.head)\n"
   ]
  },
  {
   "cell_type": "code",
   "execution_count": 7,
   "metadata": {},
   "outputs": [
    {
     "name": "stdout",
     "output_type": "stream",
     "text": [
      "(37137, 10)\n"
     ]
    }
   ],
   "source": [
    "print (data.shape)"
   ]
  },
  {
   "cell_type": "code",
   "execution_count": 8,
   "metadata": {},
   "outputs": [
    {
     "name": "stdout",
     "output_type": "stream",
     "text": [
      "<bound method NDFrame.describe of           id  MedInc  HouseAge  AveRooms  AveBedrms  Population  AveOccup  \\\n",
      "0          0  2.3859        15  3.827160   1.112100      1280.0  2.486989   \n",
      "1          1  3.7188        17  6.013373   1.054217      1504.0  3.813084   \n",
      "2          2  4.7750        27  6.535604   1.103175      1061.0  2.464602   \n",
      "3          3  2.4138        16  3.350203   0.965432      1255.0  2.089286   \n",
      "4          4  3.7500        52  4.284404   1.069246      1793.0  1.604790   \n",
      "...      ...     ...       ...       ...        ...         ...       ...   \n",
      "37132  37132  3.3438        50  4.936508   1.079365      1775.0  3.022222   \n",
      "37133  37133  3.7308        26  5.087533   0.966019      1006.0  4.316901   \n",
      "37134  37134  4.1716        52  4.678862   1.101485      1156.0  1.431734   \n",
      "37135  37135  2.7143        16  5.710074   1.068376       584.0  2.803659   \n",
      "37136  37136  2.2419        34  5.424419   1.058685      1340.0  3.799065   \n",
      "\n",
      "       Latitude  Longitude  MedHouseVal  \n",
      "0         34.60    -120.12        0.980  \n",
      "1         38.69    -121.22        0.946  \n",
      "2         34.71    -120.45        1.576  \n",
      "3         32.66    -117.09        1.336  \n",
      "4         37.80    -122.41        4.500  \n",
      "...         ...        ...          ...  \n",
      "37132     34.19    -118.36        1.856  \n",
      "37133     37.32    -121.86        1.588  \n",
      "37134     37.75    -122.44        3.387  \n",
      "37135     38.40    -120.98        1.592  \n",
      "37136     36.34    -119.64        0.652  \n",
      "\n",
      "[37137 rows x 10 columns]>\n"
     ]
    }
   ],
   "source": [
    "print (data.describe)"
   ]
  },
  {
   "cell_type": "code",
   "execution_count": 9,
   "metadata": {},
   "outputs": [
    {
     "name": "stdout",
     "output_type": "stream",
     "text": [
      "<bound method NDFrame.tail of           id  MedInc  HouseAge  AveRooms  AveBedrms  Population  AveOccup  \\\n",
      "0          0  2.3859        15  3.827160   1.112100      1280.0  2.486989   \n",
      "1          1  3.7188        17  6.013373   1.054217      1504.0  3.813084   \n",
      "2          2  4.7750        27  6.535604   1.103175      1061.0  2.464602   \n",
      "3          3  2.4138        16  3.350203   0.965432      1255.0  2.089286   \n",
      "4          4  3.7500        52  4.284404   1.069246      1793.0  1.604790   \n",
      "...      ...     ...       ...       ...        ...         ...       ...   \n",
      "37132  37132  3.3438        50  4.936508   1.079365      1775.0  3.022222   \n",
      "37133  37133  3.7308        26  5.087533   0.966019      1006.0  4.316901   \n",
      "37134  37134  4.1716        52  4.678862   1.101485      1156.0  1.431734   \n",
      "37135  37135  2.7143        16  5.710074   1.068376       584.0  2.803659   \n",
      "37136  37136  2.2419        34  5.424419   1.058685      1340.0  3.799065   \n",
      "\n",
      "       Latitude  Longitude  MedHouseVal  \n",
      "0         34.60    -120.12        0.980  \n",
      "1         38.69    -121.22        0.946  \n",
      "2         34.71    -120.45        1.576  \n",
      "3         32.66    -117.09        1.336  \n",
      "4         37.80    -122.41        4.500  \n",
      "...         ...        ...          ...  \n",
      "37132     34.19    -118.36        1.856  \n",
      "37133     37.32    -121.86        1.588  \n",
      "37134     37.75    -122.44        3.387  \n",
      "37135     38.40    -120.98        1.592  \n",
      "37136     36.34    -119.64        0.652  \n",
      "\n",
      "[37137 rows x 10 columns]>\n"
     ]
    }
   ],
   "source": [
    "det=data.dropna()\n",
    "print (det.tail)"
   ]
  },
  {
   "cell_type": "code",
   "execution_count": 10,
   "metadata": {},
   "outputs": [
    {
     "data": {
      "image/png": "[encoded data removed]",
      "text/plain": [
       "<Figure size 640x480 with 1 Axes>"
      ]
     },
     "metadata": {},
     "output_type": "display_data"
    }
   ],
   "source": [
    "plt.bar(det['HouseAge'], det['AveRooms'])\n",
    "plt.show()"
   ]
  }
 ],
 "metadata": {
  "kernelspec": {
   "display_name": "Python 3",
   "language": "python",
   "name": "python3"
  },
  "language_info": {
   "codemirror_mode": {
    "name": "ipython",
    "version": 3
   },
   "file_extension": ".py",
   "mimetype": "text/x-python",
   "name": "python",
   "nbconvert_exporter": "python",
   "pygments_lexer": "ipython3",
   "version": "3.11.2"
  }
 },
 "nbformat": 4,
 "nbformat_minor": 2
}
